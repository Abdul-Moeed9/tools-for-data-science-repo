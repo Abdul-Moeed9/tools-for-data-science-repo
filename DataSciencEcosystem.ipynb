{
 "cells": [
  {
   "cell_type": "markdown",
   "id": "91d0761f",
   "metadata": {},
   "source": []
  },
  {
   "cell_type": "markdown",
   "id": "3c190767",
   "metadata": {},
   "source": [
    "<h1>Data Science tools and Ecosystem</h1>"
   ]
  },
  {
   "cell_type": "markdown",
   "id": "00aefbdf",
   "metadata": {},
   "source": [
    "In this notebook, Data Science tools and ecosystems are summarized."
   ]
  },
  {
   "cell_type": "markdown",
   "id": "d8772630",
   "metadata": {},
   "source": [
    "Some of the popular languages used by data scientists are: \n",
    "<ol>\n",
    "<li>Python</li>\n",
    "<li>R</li>\n",
    "<li>Julia</li>\n",
    "<li>Scala</li>"
   ]
  },
  {
   "cell_type": "markdown",
   "id": "0995f3cd",
   "metadata": {},
   "source": [
    "Some of the commonly used libraries used by Data Scientists include:\n",
    "<ol>\n",
    "<li> NumPy </li>\n",
    "<li> pandas </li>\n",
    "<li> Matplotlib </li>\n",
    "<li> scikit-learn </li>\n"
   ]
  },
  {
   "cell_type": "markdown",
   "id": "3710f2d1",
   "metadata": {},
   "source": [
    "| Data Science Tools            |\n",
    "|------------------------------|\n",
    "| Jupyter Notebook             |\n",
    "| RStudio                      |\n",
    "| Visual Studio Code (VS Code) |\n"
   ]
  }
 ],
 "metadata": {
  "language_info": {
   "name": "python"
  }
 },
 "nbformat": 4,
 "nbformat_minor": 5
}
