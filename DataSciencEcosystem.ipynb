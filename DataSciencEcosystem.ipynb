{
 "cells": [
  {
   "cell_type": "markdown",
   "id": "91d0761f",
   "metadata": {},
   "source": []
  },
  {
   "cell_type": "markdown",
   "id": "3c190767",
   "metadata": {},
   "source": [
    "<h1>Data Science tools and Ecosystem</h1>"
   ]
  },
  {
   "cell_type": "markdown",
   "id": "00aefbdf",
   "metadata": {},
   "source": [
    "In this notebook, Data Science tools and ecosystems are summarized."
   ]
  },
  {
   "cell_type": "markdown",
   "id": "d8772630",
   "metadata": {},
   "source": [
    "Some of the popular languages used by data scientists are: \n",
    "<ol>\n",
    "<li>Python</li>\n",
    "<li>R</li>\n",
    "<li>Julia</li>\n",
    "<li>Scala</li>"
   ]
  },
  {
   "cell_type": "markdown",
   "id": "0995f3cd",
   "metadata": {},
   "source": [
    "Some of the commonly used libraries used by Data Scientists include:\n",
    "<ol>\n",
    "<li> NumPy </li>\n",
    "<li> pandas </li>\n",
    "<li> Matplotlib </li>\n",
    "<li> scikit-learn </li>\n"
   ]
  },
  {
   "cell_type": "markdown",
   "id": "3710f2d1",
   "metadata": {},
   "source": [
    "| Data Science Tools            |\n",
    "|------------------------------|\n",
    "| Jupyter Notebook             |\n",
    "| RStudio                      |\n",
    "| Visual Studio Code (VS Code) |\n"
   ]
  },
  {
   "cell_type": "markdown",
   "id": "89635c25",
   "metadata": {},
   "source": [
    "<h3>Below are a few examples of evaluating arithmetic expressions in Python</h3>\n",
    "<ul>\n",
    "<li>5+4</li>\n",
    "<li>(9*2)+5</li>"
   ]
  },
  {
   "cell_type": "code",
   "execution_count": 5,
   "id": "49984d1b",
   "metadata": {},
   "outputs": [
    {
     "data": {
      "text/plain": [
       "17"
      ]
     },
     "execution_count": 5,
     "metadata": {},
     "output_type": "execute_result"
    }
   ],
   "source": [
    "(3*4)+5"
   ]
  },
  {
   "cell_type": "code",
   "execution_count": 6,
   "id": "2bd7c7ea",
   "metadata": {},
   "outputs": [
    {
     "data": {
      "text/plain": [
       "3.3333333333333335"
      ]
     },
     "execution_count": 6,
     "metadata": {},
     "output_type": "execute_result"
    }
   ],
   "source": [
    "#this will convert 200 minutes into hours by dividing by 60\n",
    "200/60"
   ]
  },
  {
   "cell_type": "markdown",
   "id": "b45dbefd",
   "metadata": {},
   "source": [
    "<b>Objectives</b>\n",
    "<ul>\n",
    "<li>List popular languages for Data Science</li>\n",
    "<li>Intro to RStudio</li>\n",
    "<li>Intro to Github</li>\n",
    "<li>Intro to APIs</li>"
   ]
  },
  {
   "cell_type": "markdown",
   "id": "fd694c76",
   "metadata": {},
   "source": [
    "<h2>Author</h2>\n",
    "Abdul Moeed"
   ]
  },
  {
   "cell_type": "markdown",
   "id": "a5661666",
   "metadata": {},
   "source": []
  }
 ],
 "metadata": {
  "kernelspec": {
   "display_name": "Python 3",
   "language": "python",
   "name": "python3"
  },
  "language_info": {
   "codemirror_mode": {
    "name": "ipython",
    "version": 3
   },
   "file_extension": ".py",
   "mimetype": "text/x-python",
   "name": "python",
   "nbconvert_exporter": "python",
   "pygments_lexer": "ipython3",
   "version": "3.11.9"
  }
 },
 "nbformat": 4,
 "nbformat_minor": 5
}
